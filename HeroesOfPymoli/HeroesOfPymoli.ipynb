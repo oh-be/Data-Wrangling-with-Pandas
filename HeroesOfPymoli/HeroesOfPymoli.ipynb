{
 "cells": [
  {
   "cell_type": "code",
   "execution_count": 8,
   "id": "f9dae8e5-16cc-4d93-82e0-4fcce5cfe4fd",
   "metadata": {},
   "outputs": [],
   "source": [
    "import pandas as pd"
   ]
  },
  {
   "cell_type": "code",
   "execution_count": 9,
   "id": "918dd1ff-5431-404b-89f8-9f60a1da8bb1",
   "metadata": {},
   "outputs": [],
   "source": [
    "purchase_data = pd.read_csv(\"purchase_data.csv\")"
   ]
  },
  {
   "cell_type": "code",
   "execution_count": 10,
   "id": "04685f10-7ce5-4593-83cb-0ff858a522b2",
   "metadata": {
    "tags": []
   },
   "outputs": [
    {
     "data": {
      "text/html": [
       "<div>\n",
       "<style scoped>\n",
       "    .dataframe tbody tr th:only-of-type {\n",
       "        vertical-align: middle;\n",
       "    }\n",
       "\n",
       "    .dataframe tbody tr th {\n",
       "        vertical-align: top;\n",
       "    }\n",
       "\n",
       "    .dataframe thead th {\n",
       "        text-align: right;\n",
       "    }\n",
       "</style>\n",
       "<table border=\"1\" class=\"dataframe\">\n",
       "  <thead>\n",
       "    <tr style=\"text-align: right;\">\n",
       "      <th></th>\n",
       "      <th>Purchase ID</th>\n",
       "      <th>SN</th>\n",
       "      <th>Age</th>\n",
       "      <th>Gender</th>\n",
       "      <th>Item ID</th>\n",
       "      <th>Item Name</th>\n",
       "      <th>Price</th>\n",
       "    </tr>\n",
       "  </thead>\n",
       "  <tbody>\n",
       "    <tr>\n",
       "      <th>0</th>\n",
       "      <td>0</td>\n",
       "      <td>Lisim78</td>\n",
       "      <td>20</td>\n",
       "      <td>Male</td>\n",
       "      <td>108</td>\n",
       "      <td>Extraction, Quickblade Of Trembling Hands</td>\n",
       "      <td>3.53</td>\n",
       "    </tr>\n",
       "    <tr>\n",
       "      <th>1</th>\n",
       "      <td>1</td>\n",
       "      <td>Lisovynya38</td>\n",
       "      <td>40</td>\n",
       "      <td>Male</td>\n",
       "      <td>143</td>\n",
       "      <td>Frenzied Scimitar</td>\n",
       "      <td>1.56</td>\n",
       "    </tr>\n",
       "    <tr>\n",
       "      <th>2</th>\n",
       "      <td>2</td>\n",
       "      <td>Ithergue48</td>\n",
       "      <td>24</td>\n",
       "      <td>Male</td>\n",
       "      <td>92</td>\n",
       "      <td>Final Critic</td>\n",
       "      <td>4.88</td>\n",
       "    </tr>\n",
       "    <tr>\n",
       "      <th>3</th>\n",
       "      <td>3</td>\n",
       "      <td>Chamassasya86</td>\n",
       "      <td>24</td>\n",
       "      <td>Male</td>\n",
       "      <td>100</td>\n",
       "      <td>Blindscythe</td>\n",
       "      <td>3.27</td>\n",
       "    </tr>\n",
       "    <tr>\n",
       "      <th>4</th>\n",
       "      <td>4</td>\n",
       "      <td>Iskosia90</td>\n",
       "      <td>23</td>\n",
       "      <td>Male</td>\n",
       "      <td>131</td>\n",
       "      <td>Fury</td>\n",
       "      <td>1.44</td>\n",
       "    </tr>\n",
       "  </tbody>\n",
       "</table>\n",
       "</div>"
      ],
      "text/plain": [
       "   Purchase ID             SN  Age Gender  Item ID  \\\n",
       "0            0        Lisim78   20   Male      108   \n",
       "1            1    Lisovynya38   40   Male      143   \n",
       "2            2     Ithergue48   24   Male       92   \n",
       "3            3  Chamassasya86   24   Male      100   \n",
       "4            4      Iskosia90   23   Male      131   \n",
       "\n",
       "                                   Item Name  Price  \n",
       "0  Extraction, Quickblade Of Trembling Hands   3.53  \n",
       "1                          Frenzied Scimitar   1.56  \n",
       "2                               Final Critic   4.88  \n",
       "3                                Blindscythe   3.27  \n",
       "4                                       Fury   1.44  "
      ]
     },
     "execution_count": 10,
     "metadata": {},
     "output_type": "execute_result"
    }
   ],
   "source": [
    "purchase_data.head()"
   ]
  },
  {
   "cell_type": "code",
   "execution_count": 11,
   "id": "71d6e7b0-2316-45ca-b6d4-e71676445a41",
   "metadata": {},
   "outputs": [
    {
     "data": {
      "text/plain": [
       "['Purchase ID', 'SN', 'Age', 'Gender', 'Item ID', 'Item Name', 'Price']"
      ]
     },
     "execution_count": 11,
     "metadata": {},
     "output_type": "execute_result"
    }
   ],
   "source": [
    "purchase_data.columns.tolist()"
   ]
  },
  {
   "cell_type": "markdown",
   "id": "15c69286-2238-4896-a51e-147552a9dfc5",
   "metadata": {
    "tags": []
   },
   "source": [
    "### Player Count\n",
    "Total Number of Players"
   ]
  },
  {
   "cell_type": "code",
   "execution_count": 12,
   "id": "c5b4d0f4-6a6b-41ff-9719-f1a5cb1a4f2f",
   "metadata": {},
   "outputs": [
    {
     "data": {
      "text/html": [
       "<div>\n",
       "<style scoped>\n",
       "    .dataframe tbody tr th:only-of-type {\n",
       "        vertical-align: middle;\n",
       "    }\n",
       "\n",
       "    .dataframe tbody tr th {\n",
       "        vertical-align: top;\n",
       "    }\n",
       "\n",
       "    .dataframe thead th {\n",
       "        text-align: right;\n",
       "    }\n",
       "</style>\n",
       "<table border=\"1\" class=\"dataframe\">\n",
       "  <thead>\n",
       "    <tr style=\"text-align: right;\">\n",
       "      <th></th>\n",
       "      <th>Total Players</th>\n",
       "    </tr>\n",
       "  </thead>\n",
       "  <tbody>\n",
       "    <tr>\n",
       "      <th>0</th>\n",
       "      <td>576</td>\n",
       "    </tr>\n",
       "  </tbody>\n",
       "</table>\n",
       "</div>"
      ],
      "text/plain": [
       "   Total Players\n",
       "0            576"
      ]
     },
     "execution_count": 12,
     "metadata": {},
     "output_type": "execute_result"
    }
   ],
   "source": [
    "total_sn = len(purchase_data[\"SN\"].value_counts())\n",
    "player_count = pd.DataFrame({\"Total Players\": [total_sn]})\n",
    "player_count"
   ]
  },
  {
   "cell_type": "markdown",
   "id": "e20c5c21-9ec1-424e-aa01-6dd7f77cddcd",
   "metadata": {},
   "source": [
    "### Purchasing Analysis (Total)\n",
    "- Number of Unique Items\n",
    "- Average Purchase Price\n",
    "- Total Number of Purchases\n",
    "- Total Revenue"
   ]
  },
  {
   "cell_type": "code",
   "execution_count": 15,
   "id": "63557464-14e4-4e14-adda-2ad20c5c0e5f",
   "metadata": {},
   "outputs": [
    {
     "data": {
      "text/html": [
       "<style type=\"text/css\">\n",
       "</style>\n",
       "<table id=\"T_c6040_\">\n",
       "  <thead>\n",
       "    <tr>\n",
       "      <th class=\"blank level0\" >&nbsp;</th>\n",
       "      <th class=\"col_heading level0 col0\" >Number of Unique Items</th>\n",
       "      <th class=\"col_heading level0 col1\" >Average Price</th>\n",
       "      <th class=\"col_heading level0 col2\" >Number of Purchases</th>\n",
       "      <th class=\"col_heading level0 col3\" >Total Revenue</th>\n",
       "    </tr>\n",
       "  </thead>\n",
       "  <tbody>\n",
       "    <tr>\n",
       "      <th id=\"T_c6040_level0_row0\" class=\"row_heading level0 row0\" >0</th>\n",
       "      <td id=\"T_c6040_row0_col0\" class=\"data row0 col0\" >179</td>\n",
       "      <td id=\"T_c6040_row0_col1\" class=\"data row0 col1\" >$3.05</td>\n",
       "      <td id=\"T_c6040_row0_col2\" class=\"data row0 col2\" >780</td>\n",
       "      <td id=\"T_c6040_row0_col3\" class=\"data row0 col3\" >$2,379.77</td>\n",
       "    </tr>\n",
       "  </tbody>\n",
       "</table>\n"
      ],
      "text/plain": [
       "<pandas.io.formats.style.Styler at 0x7ff55aff6dc0>"
      ]
     },
     "execution_count": 15,
     "metadata": {},
     "output_type": "execute_result"
    }
   ],
   "source": [
    "unique_items = len((purchase_data[\"Item ID\"]).unique())\n",
    "average_price = (purchase_data[\"Price\"]).mean()\n",
    "total_purchases = (purchase_data[\"Purchase ID\"]).count()\n",
    "revenue = (purchase_data[\"Price\"]).sum()\n",
    "\n",
    "summary_df = pd.DataFrame({\n",
    "    \"Number of Unique Items\":[unique_items],\n",
    "    \"Average Price\":[average_price],\n",
    "    \"Number of Purchases\":[total_purchases],\n",
    "    \"Total Revenue\":[revenue],\n",
    "})\n",
    "summary_df.style.format({\n",
    "    \"Average Price\":\"${:,.2f}\",\n",
    "    \"Total Revenue\":\"${:,.2f}\"\n",
    "})"
   ]
  },
  {
   "cell_type": "markdown",
   "id": "52cca2e2-a063-4b38-8028-e15020dbbdba",
   "metadata": {},
   "source": [
    "### Gender Demographics\n",
    "- Percentage and Count of Male Players\n",
    "- Percentage and Count of Female Players\n",
    "- Percentage and Count of Other / Non-Disclosed"
   ]
  },
  {
   "cell_type": "code",
   "execution_count": 19,
   "id": "6be7edf0-2818-444b-9838-09f5fc7c31f6",
   "metadata": {},
   "outputs": [
    {
     "data": {
      "text/html": [
       "<style type=\"text/css\">\n",
       "</style>\n",
       "<table id=\"T_8c875_\">\n",
       "  <thead>\n",
       "    <tr>\n",
       "      <th class=\"blank level0\" >&nbsp;</th>\n",
       "      <th class=\"col_heading level0 col0\" >Total Count</th>\n",
       "      <th class=\"col_heading level0 col1\" >Percentage of Players</th>\n",
       "    </tr>\n",
       "  </thead>\n",
       "  <tbody>\n",
       "    <tr>\n",
       "      <th id=\"T_8c875_level0_row0\" class=\"row_heading level0 row0\" >Male</th>\n",
       "      <td id=\"T_8c875_row0_col0\" class=\"data row0 col0\" >484</td>\n",
       "      <td id=\"T_8c875_row0_col1\" class=\"data row0 col1\" >84.03%</td>\n",
       "    </tr>\n",
       "    <tr>\n",
       "      <th id=\"T_8c875_level0_row1\" class=\"row_heading level0 row1\" >Female</th>\n",
       "      <td id=\"T_8c875_row1_col0\" class=\"data row1 col0\" >81</td>\n",
       "      <td id=\"T_8c875_row1_col1\" class=\"data row1 col1\" >14.06%</td>\n",
       "    </tr>\n",
       "    <tr>\n",
       "      <th id=\"T_8c875_level0_row2\" class=\"row_heading level0 row2\" >Other / Non-Disclosed</th>\n",
       "      <td id=\"T_8c875_row2_col0\" class=\"data row2 col0\" >11</td>\n",
       "      <td id=\"T_8c875_row2_col1\" class=\"data row2 col1\" >1.91%</td>\n",
       "    </tr>\n",
       "  </tbody>\n",
       "</table>\n"
      ],
      "text/plain": [
       "<pandas.io.formats.style.Styler at 0x7ff55f1145e0>"
      ]
     },
     "execution_count": 19,
     "metadata": {},
     "output_type": "execute_result"
    }
   ],
   "source": [
    "gender_grouped = purchase_data.groupby(\"Gender\")\n",
    "total_gender = gender_grouped.nunique()[\"SN\"]\n",
    "\n",
    "percent_players = total_gender / total_sn * 100\n",
    "gender_demo = pd.DataFrame({\n",
    "    \"Total Count\":total_gender,\n",
    "    \"Percentage of Players\":percent_players\n",
    "})\n",
    "gender_demo.index.name = None\n",
    "gender_demo.sort_values([\"Total Count\"], ascending=False).style.format({\"Percentage of Players\":\"{:.2f}%\"})"
   ]
  },
  {
   "cell_type": "markdown",
   "id": "9deac015-47aa-4f33-9360-79bdf4128390",
   "metadata": {},
   "source": [
    "### Purchasing Analysis (Gender)\n",
    "- The below each broken by gender\n",
    "- Purchase Count\n",
    "- Average Purchase Price\n",
    "- Total Purchase Value\n",
    "- Average Purchase Total per Person by Gender"
   ]
  },
  {
   "cell_type": "code",
   "execution_count": null,
   "id": "405d5207-4253-4782-b21e-9aa3fce30bbd",
   "metadata": {},
   "outputs": [],
   "source": []
  },
  {
   "cell_type": "markdown",
   "id": "7fa501d4-f9bf-4979-97f3-b0563db49ea7",
   "metadata": {},
   "source": [
    "### Age Demographics\n",
    "- The below each broken into bins of 4 years (i.e. <10, 10-14, 15-19, etc.)\n",
    "- Purchase Count\n",
    "- Average Purchase Price\n",
    "- Total Purchase Value\n",
    "- Average Purchase Total per Person by Age Group"
   ]
  },
  {
   "cell_type": "code",
   "execution_count": null,
   "id": "5be21151-6bff-452c-84fc-06c147776ed3",
   "metadata": {},
   "outputs": [],
   "source": []
  },
  {
   "cell_type": "markdown",
   "id": "1ffaf42b-5e5f-4452-b211-9ffcf3498176",
   "metadata": {},
   "source": [
    "### Purchasing Analysis (age)\n",
    "- The below each broken into bins of 4 years (i.e. <10, 10-14, 15-19, etc.)\n",
    "- Purchase Count\n",
    "- Average Purchase Price\n",
    "- Total Purchase Value\n",
    "- Average Purchase Total per Person by Age"
   ]
  },
  {
   "cell_type": "code",
   "execution_count": null,
   "id": "38b64de3-5ede-4c3c-a38c-5520caac036d",
   "metadata": {},
   "outputs": [],
   "source": []
  },
  {
   "cell_type": "markdown",
   "id": "6d06a8ac-e36d-4135-917a-b147690357dc",
   "metadata": {},
   "source": [
    "### Top Spenders\n",
    "- Identify the the top 5 spenders in the game by total purchase value, then list (in a table):\n",
    "- SN\n",
    "- Purchase Count\n",
    "- Average Purchase Price\n",
    "- Total Purchase Value"
   ]
  },
  {
   "cell_type": "code",
   "execution_count": null,
   "id": "186b0d18-37a4-466a-9426-ced4414e2f87",
   "metadata": {},
   "outputs": [],
   "source": []
  },
  {
   "cell_type": "markdown",
   "id": "b37bb934-b0fa-4d27-8ea7-d4b50ee6d881",
   "metadata": {},
   "source": [
    "### Most Popular Items\n",
    "- Identify the 5 most popular items by purchase count, then list (in a table):\n",
    "- Item ID\n",
    "- Item Name\n",
    "- Purchase Count\n",
    "- Item Price\n",
    "- Total Purchase Value"
   ]
  },
  {
   "cell_type": "code",
   "execution_count": null,
   "id": "a3e11b40-9263-4f1f-9be5-90b7403125a6",
   "metadata": {},
   "outputs": [],
   "source": []
  },
  {
   "cell_type": "markdown",
   "id": "d8881373-1c32-4c4b-b06e-dd9252f4aa5b",
   "metadata": {},
   "source": [
    "### Most Profitable Items\n",
    "- Identify the 5 most profitable items by total purchase value, then list (in a table):\n",
    "- Item ID\n",
    "- Item Name\n",
    "- Purchase Count\n",
    "- Item Price\n",
    "- Total Purchase Value"
   ]
  },
  {
   "cell_type": "markdown",
   "id": "de1e34a3-9abb-49fe-b1af-9da1ef4cb8fd",
   "metadata": {},
   "source": []
  },
  {
   "cell_type": "markdown",
   "id": "71bbbf2b-70f7-4b00-97ed-b247afb5d095",
   "metadata": {
    "tags": []
   },
   "source": []
  }
 ],
 "metadata": {
  "kernelspec": {
   "display_name": "Python 3 (ipykernel)",
   "language": "python",
   "name": "python3"
  },
  "language_info": {
   "codemirror_mode": {
    "name": "ipython",
    "version": 3
   },
   "file_extension": ".py",
   "mimetype": "text/x-python",
   "name": "python",
   "nbconvert_exporter": "python",
   "pygments_lexer": "ipython3",
   "version": "3.8.12"
  }
 },
 "nbformat": 4,
 "nbformat_minor": 5
}
