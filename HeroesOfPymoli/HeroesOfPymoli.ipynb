{
 "cells": [
  {
   "cell_type": "code",
   "execution_count": 20,
   "id": "f9dae8e5-16cc-4d93-82e0-4fcce5cfe4fd",
   "metadata": {},
   "outputs": [],
   "source": [
    "import pandas as pd"
   ]
  },
  {
   "cell_type": "code",
   "execution_count": 21,
   "id": "918dd1ff-5431-404b-89f8-9f60a1da8bb1",
   "metadata": {},
   "outputs": [],
   "source": [
    "purchase_data = pd.read_csv(\"purchase_data.csv\")"
   ]
  },
  {
   "cell_type": "code",
   "execution_count": 22,
   "id": "04685f10-7ce5-4593-83cb-0ff858a522b2",
   "metadata": {
    "tags": []
   },
   "outputs": [
    {
     "data": {
      "text/html": [
       "<div>\n",
       "<style scoped>\n",
       "    .dataframe tbody tr th:only-of-type {\n",
       "        vertical-align: middle;\n",
       "    }\n",
       "\n",
       "    .dataframe tbody tr th {\n",
       "        vertical-align: top;\n",
       "    }\n",
       "\n",
       "    .dataframe thead th {\n",
       "        text-align: right;\n",
       "    }\n",
       "</style>\n",
       "<table border=\"1\" class=\"dataframe\">\n",
       "  <thead>\n",
       "    <tr style=\"text-align: right;\">\n",
       "      <th></th>\n",
       "      <th>Purchase ID</th>\n",
       "      <th>SN</th>\n",
       "      <th>Age</th>\n",
       "      <th>Gender</th>\n",
       "      <th>Item ID</th>\n",
       "      <th>Item Name</th>\n",
       "      <th>Price</th>\n",
       "    </tr>\n",
       "  </thead>\n",
       "  <tbody>\n",
       "    <tr>\n",
       "      <th>0</th>\n",
       "      <td>0</td>\n",
       "      <td>Lisim78</td>\n",
       "      <td>20</td>\n",
       "      <td>Male</td>\n",
       "      <td>108</td>\n",
       "      <td>Extraction, Quickblade Of Trembling Hands</td>\n",
       "      <td>3.53</td>\n",
       "    </tr>\n",
       "    <tr>\n",
       "      <th>1</th>\n",
       "      <td>1</td>\n",
       "      <td>Lisovynya38</td>\n",
       "      <td>40</td>\n",
       "      <td>Male</td>\n",
       "      <td>143</td>\n",
       "      <td>Frenzied Scimitar</td>\n",
       "      <td>1.56</td>\n",
       "    </tr>\n",
       "    <tr>\n",
       "      <th>2</th>\n",
       "      <td>2</td>\n",
       "      <td>Ithergue48</td>\n",
       "      <td>24</td>\n",
       "      <td>Male</td>\n",
       "      <td>92</td>\n",
       "      <td>Final Critic</td>\n",
       "      <td>4.88</td>\n",
       "    </tr>\n",
       "    <tr>\n",
       "      <th>3</th>\n",
       "      <td>3</td>\n",
       "      <td>Chamassasya86</td>\n",
       "      <td>24</td>\n",
       "      <td>Male</td>\n",
       "      <td>100</td>\n",
       "      <td>Blindscythe</td>\n",
       "      <td>3.27</td>\n",
       "    </tr>\n",
       "    <tr>\n",
       "      <th>4</th>\n",
       "      <td>4</td>\n",
       "      <td>Iskosia90</td>\n",
       "      <td>23</td>\n",
       "      <td>Male</td>\n",
       "      <td>131</td>\n",
       "      <td>Fury</td>\n",
       "      <td>1.44</td>\n",
       "    </tr>\n",
       "  </tbody>\n",
       "</table>\n",
       "</div>"
      ],
      "text/plain": [
       "   Purchase ID             SN  Age Gender  Item ID  \\\n",
       "0            0        Lisim78   20   Male      108   \n",
       "1            1    Lisovynya38   40   Male      143   \n",
       "2            2     Ithergue48   24   Male       92   \n",
       "3            3  Chamassasya86   24   Male      100   \n",
       "4            4      Iskosia90   23   Male      131   \n",
       "\n",
       "                                   Item Name  Price  \n",
       "0  Extraction, Quickblade Of Trembling Hands   3.53  \n",
       "1                          Frenzied Scimitar   1.56  \n",
       "2                               Final Critic   4.88  \n",
       "3                                Blindscythe   3.27  \n",
       "4                                       Fury   1.44  "
      ]
     },
     "execution_count": 22,
     "metadata": {},
     "output_type": "execute_result"
    }
   ],
   "source": [
    "purchase_data.head()"
   ]
  },
  {
   "cell_type": "code",
   "execution_count": 23,
   "id": "71d6e7b0-2316-45ca-b6d4-e71676445a41",
   "metadata": {},
   "outputs": [
    {
     "data": {
      "text/plain": [
       "['Purchase ID', 'SN', 'Age', 'Gender', 'Item ID', 'Item Name', 'Price']"
      ]
     },
     "execution_count": 23,
     "metadata": {},
     "output_type": "execute_result"
    }
   ],
   "source": [
    "purchase_data.columns.tolist()"
   ]
  },
  {
   "cell_type": "markdown",
   "id": "15c69286-2238-4896-a51e-147552a9dfc5",
   "metadata": {
    "tags": []
   },
   "source": [
    "### Player Count\n",
    "Total Number of Players"
   ]
  },
  {
   "cell_type": "code",
   "execution_count": 24,
   "id": "c5b4d0f4-6a6b-41ff-9719-f1a5cb1a4f2f",
   "metadata": {},
   "outputs": [
    {
     "data": {
      "text/html": [
       "<div>\n",
       "<style scoped>\n",
       "    .dataframe tbody tr th:only-of-type {\n",
       "        vertical-align: middle;\n",
       "    }\n",
       "\n",
       "    .dataframe tbody tr th {\n",
       "        vertical-align: top;\n",
       "    }\n",
       "\n",
       "    .dataframe thead th {\n",
       "        text-align: right;\n",
       "    }\n",
       "</style>\n",
       "<table border=\"1\" class=\"dataframe\">\n",
       "  <thead>\n",
       "    <tr style=\"text-align: right;\">\n",
       "      <th></th>\n",
       "      <th>Total Players</th>\n",
       "    </tr>\n",
       "  </thead>\n",
       "  <tbody>\n",
       "    <tr>\n",
       "      <th>0</th>\n",
       "      <td>576</td>\n",
       "    </tr>\n",
       "  </tbody>\n",
       "</table>\n",
       "</div>"
      ],
      "text/plain": [
       "   Total Players\n",
       "0            576"
      ]
     },
     "execution_count": 24,
     "metadata": {},
     "output_type": "execute_result"
    }
   ],
   "source": [
    "total_sn = len(purchase_data[\"SN\"].value_counts())\n",
    "player_count = pd.DataFrame({\"Total Players\": [total_sn]})\n",
    "player_count"
   ]
  },
  {
   "cell_type": "markdown",
   "id": "e20c5c21-9ec1-424e-aa01-6dd7f77cddcd",
   "metadata": {},
   "source": [
    "### Purchasing Analysis (Total)\n",
    "- Number of Unique Items\n",
    "- Average Purchase Price\n",
    "- Total Number of Purchases\n",
    "- Total Revenue"
   ]
  },
  {
   "cell_type": "code",
   "execution_count": 25,
   "id": "63557464-14e4-4e14-adda-2ad20c5c0e5f",
   "metadata": {},
   "outputs": [
    {
     "data": {
      "text/html": [
       "<style type=\"text/css\">\n",
       "</style>\n",
       "<table id=\"T_2dae5_\">\n",
       "  <thead>\n",
       "    <tr>\n",
       "      <th class=\"blank level0\" >&nbsp;</th>\n",
       "      <th class=\"col_heading level0 col0\" >Number of Unique Items</th>\n",
       "      <th class=\"col_heading level0 col1\" >Average Price</th>\n",
       "      <th class=\"col_heading level0 col2\" >Number of Purchases</th>\n",
       "      <th class=\"col_heading level0 col3\" >Total Revenue</th>\n",
       "    </tr>\n",
       "  </thead>\n",
       "  <tbody>\n",
       "    <tr>\n",
       "      <th id=\"T_2dae5_level0_row0\" class=\"row_heading level0 row0\" >0</th>\n",
       "      <td id=\"T_2dae5_row0_col0\" class=\"data row0 col0\" >179</td>\n",
       "      <td id=\"T_2dae5_row0_col1\" class=\"data row0 col1\" >$3.05</td>\n",
       "      <td id=\"T_2dae5_row0_col2\" class=\"data row0 col2\" >780</td>\n",
       "      <td id=\"T_2dae5_row0_col3\" class=\"data row0 col3\" >$2,379.77</td>\n",
       "    </tr>\n",
       "  </tbody>\n",
       "</table>\n"
      ],
      "text/plain": [
       "<pandas.io.formats.style.Styler at 0x7ff55f261520>"
      ]
     },
     "execution_count": 25,
     "metadata": {},
     "output_type": "execute_result"
    }
   ],
   "source": [
    "unique_items = len((purchase_data[\"Item ID\"]).unique())\n",
    "average_price = (purchase_data[\"Price\"]).mean()\n",
    "total_purchases = (purchase_data[\"Purchase ID\"]).count()\n",
    "revenue = (purchase_data[\"Price\"]).sum()\n",
    "\n",
    "summary_df = pd.DataFrame({\n",
    "    \"Number of Unique Items\":[unique_items],\n",
    "    \"Average Price\":[average_price],\n",
    "    \"Number of Purchases\":[total_purchases],\n",
    "    \"Total Revenue\":[revenue],\n",
    "})\n",
    "summary_df.style.format({\n",
    "    \"Average Price\":\"${:,.2f}\",\n",
    "    \"Total Revenue\":\"${:,.2f}\"\n",
    "})"
   ]
  },
  {
   "cell_type": "markdown",
   "id": "52cca2e2-a063-4b38-8028-e15020dbbdba",
   "metadata": {},
   "source": [
    "### Gender Demographics\n",
    "- Percentage and Count of Male Players\n",
    "- Percentage and Count of Female Players\n",
    "- Percentage and Count of Other / Non-Disclosed"
   ]
  },
  {
   "cell_type": "code",
   "execution_count": 26,
   "id": "6be7edf0-2818-444b-9838-09f5fc7c31f6",
   "metadata": {},
   "outputs": [
    {
     "data": {
      "text/html": [
       "<style type=\"text/css\">\n",
       "</style>\n",
       "<table id=\"T_dfca3_\">\n",
       "  <thead>\n",
       "    <tr>\n",
       "      <th class=\"blank level0\" >&nbsp;</th>\n",
       "      <th class=\"col_heading level0 col0\" >Total Count</th>\n",
       "      <th class=\"col_heading level0 col1\" >Percentage of Players</th>\n",
       "    </tr>\n",
       "  </thead>\n",
       "  <tbody>\n",
       "    <tr>\n",
       "      <th id=\"T_dfca3_level0_row0\" class=\"row_heading level0 row0\" >Male</th>\n",
       "      <td id=\"T_dfca3_row0_col0\" class=\"data row0 col0\" >484</td>\n",
       "      <td id=\"T_dfca3_row0_col1\" class=\"data row0 col1\" >84.03%</td>\n",
       "    </tr>\n",
       "    <tr>\n",
       "      <th id=\"T_dfca3_level0_row1\" class=\"row_heading level0 row1\" >Female</th>\n",
       "      <td id=\"T_dfca3_row1_col0\" class=\"data row1 col0\" >81</td>\n",
       "      <td id=\"T_dfca3_row1_col1\" class=\"data row1 col1\" >14.06%</td>\n",
       "    </tr>\n",
       "    <tr>\n",
       "      <th id=\"T_dfca3_level0_row2\" class=\"row_heading level0 row2\" >Other / Non-Disclosed</th>\n",
       "      <td id=\"T_dfca3_row2_col0\" class=\"data row2 col0\" >11</td>\n",
       "      <td id=\"T_dfca3_row2_col1\" class=\"data row2 col1\" >1.91%</td>\n",
       "    </tr>\n",
       "  </tbody>\n",
       "</table>\n"
      ],
      "text/plain": [
       "<pandas.io.formats.style.Styler at 0x7ff55f3a7a30>"
      ]
     },
     "execution_count": 26,
     "metadata": {},
     "output_type": "execute_result"
    }
   ],
   "source": [
    "gender_grouped = purchase_data.groupby(\"Gender\")\n",
    "total_gender = gender_grouped.nunique()[\"SN\"]\n",
    "\n",
    "percent_players = total_gender / total_sn * 100\n",
    "gender_demo = pd.DataFrame({\n",
    "    \"Total Count\":total_gender,\n",
    "    \"Percentage of Players\":percent_players\n",
    "})\n",
    "gender_demo.index.name = None\n",
    "gender_demo.sort_values([\"Total Count\"], ascending=False).style.format({\"Percentage of Players\":\"{:.2f}%\"})"
   ]
  },
  {
   "cell_type": "markdown",
   "id": "9deac015-47aa-4f33-9360-79bdf4128390",
   "metadata": {},
   "source": [
    "### Purchasing Analysis (Gender)\n",
    "- The below each broken by gender\n",
    "- Purchase Count\n",
    "- Average Purchase Price\n",
    "- Total Purchase Value\n",
    "- Average Purchase Total per Person by Gender"
   ]
  },
  {
   "cell_type": "code",
   "execution_count": 27,
   "id": "405d5207-4253-4782-b21e-9aa3fce30bbd",
   "metadata": {},
   "outputs": [
    {
     "data": {
      "text/html": [
       "<style type=\"text/css\">\n",
       "</style>\n",
       "<table id=\"T_67017_\">\n",
       "  <thead>\n",
       "    <tr>\n",
       "      <th class=\"blank level0\" >&nbsp;</th>\n",
       "      <th class=\"col_heading level0 col0\" >Purchase Count</th>\n",
       "      <th class=\"col_heading level0 col1\" >Average Purchase Price</th>\n",
       "      <th class=\"col_heading level0 col2\" >Total Purchase Value</th>\n",
       "      <th class=\"col_heading level0 col3\" >Avg Total Purchase per Person</th>\n",
       "    </tr>\n",
       "    <tr>\n",
       "      <th class=\"index_name level0\" >Gender</th>\n",
       "      <th class=\"blank col0\" >&nbsp;</th>\n",
       "      <th class=\"blank col1\" >&nbsp;</th>\n",
       "      <th class=\"blank col2\" >&nbsp;</th>\n",
       "      <th class=\"blank col3\" >&nbsp;</th>\n",
       "    </tr>\n",
       "  </thead>\n",
       "  <tbody>\n",
       "    <tr>\n",
       "      <th id=\"T_67017_level0_row0\" class=\"row_heading level0 row0\" >Female</th>\n",
       "      <td id=\"T_67017_row0_col0\" class=\"data row0 col0\" >113</td>\n",
       "      <td id=\"T_67017_row0_col1\" class=\"data row0 col1\" >$3.20</td>\n",
       "      <td id=\"T_67017_row0_col2\" class=\"data row0 col2\" >$361.94</td>\n",
       "      <td id=\"T_67017_row0_col3\" class=\"data row0 col3\" >$4.47</td>\n",
       "    </tr>\n",
       "    <tr>\n",
       "      <th id=\"T_67017_level0_row1\" class=\"row_heading level0 row1\" >Male</th>\n",
       "      <td id=\"T_67017_row1_col0\" class=\"data row1 col0\" >652</td>\n",
       "      <td id=\"T_67017_row1_col1\" class=\"data row1 col1\" >$3.02</td>\n",
       "      <td id=\"T_67017_row1_col2\" class=\"data row1 col2\" >$1,967.64</td>\n",
       "      <td id=\"T_67017_row1_col3\" class=\"data row1 col3\" >$4.07</td>\n",
       "    </tr>\n",
       "    <tr>\n",
       "      <th id=\"T_67017_level0_row2\" class=\"row_heading level0 row2\" >Other / Non-Disclosed</th>\n",
       "      <td id=\"T_67017_row2_col0\" class=\"data row2 col0\" >15</td>\n",
       "      <td id=\"T_67017_row2_col1\" class=\"data row2 col1\" >$3.35</td>\n",
       "      <td id=\"T_67017_row2_col2\" class=\"data row2 col2\" >$50.19</td>\n",
       "      <td id=\"T_67017_row2_col3\" class=\"data row2 col3\" >$4.56</td>\n",
       "    </tr>\n",
       "  </tbody>\n",
       "</table>\n"
      ],
      "text/plain": [
       "<pandas.io.formats.style.Styler at 0x7ff55f48da30>"
      ]
     },
     "execution_count": 27,
     "metadata": {},
     "output_type": "execute_result"
    }
   ],
   "source": [
    "purchase_count = gender_grouped[\"Purchase ID\"].count()\n",
    "average_purchase_price = gender_grouped[\"Price\"].mean()\n",
    "purchase_value = gender_grouped[\"Price\"].sum()\n",
    "average_purchase_per_person = purchase_value / total_gender\n",
    "\n",
    "purchase_analysis_gender = pd.DataFrame({\n",
    "    \"Purchase Count\":purchase_count,\n",
    "    \"Average Purchase Price\":average_purchase_price,\n",
    "    \"Total Purchase Value\":purchase_value,\n",
    "    \"Avg Total Purchase per Person\":average_purchase_per_person\n",
    "})\n",
    "purchase_analysis_gender.index.name = \"Gender\"\n",
    "\n",
    "purchase_analysis_gender.style.format({\n",
    "    \"Average Purchase Price\":\"${:,.2f}\",\n",
    "    \"Total Purchase Value\":\"${:,.2f}\",\n",
    "    \"Avg Total Purchase per Person\":\"${:,.2f}\"\n",
    "})"
   ]
  },
  {
   "cell_type": "markdown",
   "id": "7fa501d4-f9bf-4979-97f3-b0563db49ea7",
   "metadata": {},
   "source": [
    "### Age Demographics\n",
    "- The below each broken into bins of 4 years (i.e. <10, 10-14, 15-19, etc.)\n",
    "- Purchase Count\n",
    "- Average Purchase Price\n",
    "- Total Purchase Value\n",
    "- Average Purchase Total per Person by Age Group"
   ]
  },
  {
   "cell_type": "code",
   "execution_count": 31,
   "id": "5be21151-6bff-452c-84fc-06c147776ed3",
   "metadata": {},
   "outputs": [
    {
     "data": {
      "text/html": [
       "<style type=\"text/css\">\n",
       "</style>\n",
       "<table id=\"T_c4c8f_\">\n",
       "  <thead>\n",
       "    <tr>\n",
       "      <th class=\"blank level0\" >&nbsp;</th>\n",
       "      <th class=\"col_heading level0 col0\" >Total Count</th>\n",
       "      <th class=\"col_heading level0 col1\" >Percentage of Players</th>\n",
       "    </tr>\n",
       "  </thead>\n",
       "  <tbody>\n",
       "    <tr>\n",
       "      <th id=\"T_c4c8f_level0_row0\" class=\"row_heading level0 row0\" ><10</th>\n",
       "      <td id=\"T_c4c8f_row0_col0\" class=\"data row0 col0\" >17</td>\n",
       "      <td id=\"T_c4c8f_row0_col1\" class=\"data row0 col1\" >2.95%</td>\n",
       "    </tr>\n",
       "    <tr>\n",
       "      <th id=\"T_c4c8f_level0_row1\" class=\"row_heading level0 row1\" >10-14</th>\n",
       "      <td id=\"T_c4c8f_row1_col0\" class=\"data row1 col0\" >22</td>\n",
       "      <td id=\"T_c4c8f_row1_col1\" class=\"data row1 col1\" >3.82%</td>\n",
       "    </tr>\n",
       "    <tr>\n",
       "      <th id=\"T_c4c8f_level0_row2\" class=\"row_heading level0 row2\" >15-19</th>\n",
       "      <td id=\"T_c4c8f_row2_col0\" class=\"data row2 col0\" >107</td>\n",
       "      <td id=\"T_c4c8f_row2_col1\" class=\"data row2 col1\" >18.58%</td>\n",
       "    </tr>\n",
       "    <tr>\n",
       "      <th id=\"T_c4c8f_level0_row3\" class=\"row_heading level0 row3\" >20-24</th>\n",
       "      <td id=\"T_c4c8f_row3_col0\" class=\"data row3 col0\" >258</td>\n",
       "      <td id=\"T_c4c8f_row3_col1\" class=\"data row3 col1\" >44.79%</td>\n",
       "    </tr>\n",
       "    <tr>\n",
       "      <th id=\"T_c4c8f_level0_row4\" class=\"row_heading level0 row4\" >25-29</th>\n",
       "      <td id=\"T_c4c8f_row4_col0\" class=\"data row4 col0\" >77</td>\n",
       "      <td id=\"T_c4c8f_row4_col1\" class=\"data row4 col1\" >13.37%</td>\n",
       "    </tr>\n",
       "    <tr>\n",
       "      <th id=\"T_c4c8f_level0_row5\" class=\"row_heading level0 row5\" >30-34</th>\n",
       "      <td id=\"T_c4c8f_row5_col0\" class=\"data row5 col0\" >52</td>\n",
       "      <td id=\"T_c4c8f_row5_col1\" class=\"data row5 col1\" >9.03%</td>\n",
       "    </tr>\n",
       "    <tr>\n",
       "      <th id=\"T_c4c8f_level0_row6\" class=\"row_heading level0 row6\" >35-39</th>\n",
       "      <td id=\"T_c4c8f_row6_col0\" class=\"data row6 col0\" >31</td>\n",
       "      <td id=\"T_c4c8f_row6_col1\" class=\"data row6 col1\" >5.38%</td>\n",
       "    </tr>\n",
       "    <tr>\n",
       "      <th id=\"T_c4c8f_level0_row7\" class=\"row_heading level0 row7\" >40+</th>\n",
       "      <td id=\"T_c4c8f_row7_col0\" class=\"data row7 col0\" >12</td>\n",
       "      <td id=\"T_c4c8f_row7_col1\" class=\"data row7 col1\" >2.08%</td>\n",
       "    </tr>\n",
       "  </tbody>\n",
       "</table>\n"
      ],
      "text/plain": [
       "<pandas.io.formats.style.Styler at 0x7ff55f4935e0>"
      ]
     },
     "execution_count": 31,
     "metadata": {},
     "output_type": "execute_result"
    }
   ],
   "source": [
    "age_bin = [0, 9.90, 14.90, 19.90, 24.90, 29.90, 34.90, 39.90, 99.99]\n",
    "bin_names = [\"<10\", \"10-14\", \"15-19\", \"20-24\", \"25-29\", \"30-34\", \"35-39\", \"40+\"]\n",
    "\n",
    "purchase_data[\"Age Group\"] = pd.cut(purchase_data[\"Age\"], age_bin, labels=bin_names)\n",
    "\n",
    "age_groupby = purchase_data.groupby(\"Age Group\")\n",
    "total_count_age = age_groupby[\"SN\"].nunique()\n",
    "percentage_by_age = (total_count_age/total_sn) * 100\n",
    "\n",
    "age_demo = pd.DataFrame({\n",
    "    \"Total Count\":total_count_age,\n",
    "    \"Percentage of Players\":percentage_by_age\n",
    "})\n",
    "age_demo.index.name = None\n",
    "age_demo.style.format({\"Percentage of Players\":\"{:,.2f}%\"})"
   ]
  },
  {
   "cell_type": "markdown",
   "id": "1ffaf42b-5e5f-4452-b211-9ffcf3498176",
   "metadata": {},
   "source": [
    "### Purchasing Analysis (age)\n",
    "- The below each broken into bins of 4 years (i.e. <10, 10-14, 15-19, etc.)\n",
    "- Purchase Count\n",
    "- Average Purchase Price\n",
    "- Total Purchase Value\n",
    "- Average Purchase Total per Person by Age"
   ]
  },
  {
   "cell_type": "code",
   "execution_count": 38,
   "id": "38b64de3-5ede-4c3c-a38c-5520caac036d",
   "metadata": {
    "tags": []
   },
   "outputs": [
    {
     "data": {
      "text/html": [
       "<style type=\"text/css\">\n",
       "</style>\n",
       "<table id=\"T_de5db_\">\n",
       "  <thead>\n",
       "    <tr>\n",
       "      <th class=\"blank level0\" >&nbsp;</th>\n",
       "      <th class=\"col_heading level0 col0\" >Purchase Count</th>\n",
       "      <th class=\"col_heading level0 col1\" >Average Purchase Price</th>\n",
       "      <th class=\"col_heading level0 col2\" >Total Purchase Value</th>\n",
       "      <th class=\"col_heading level0 col3\" >Avg Total Purchase per Person</th>\n",
       "    </tr>\n",
       "    <tr>\n",
       "      <th class=\"index_name level0\" >Age Ranges</th>\n",
       "      <th class=\"blank col0\" >&nbsp;</th>\n",
       "      <th class=\"blank col1\" >&nbsp;</th>\n",
       "      <th class=\"blank col2\" >&nbsp;</th>\n",
       "      <th class=\"blank col3\" >&nbsp;</th>\n",
       "    </tr>\n",
       "  </thead>\n",
       "  <tbody>\n",
       "    <tr>\n",
       "      <th id=\"T_de5db_level0_row0\" class=\"row_heading level0 row0\" ><10</th>\n",
       "      <td id=\"T_de5db_row0_col0\" class=\"data row0 col0\" >23</td>\n",
       "      <td id=\"T_de5db_row0_col1\" class=\"data row0 col1\" >$3.35</td>\n",
       "      <td id=\"T_de5db_row0_col2\" class=\"data row0 col2\" >$77.13</td>\n",
       "      <td id=\"T_de5db_row0_col3\" class=\"data row0 col3\" >$4.54</td>\n",
       "    </tr>\n",
       "    <tr>\n",
       "      <th id=\"T_de5db_level0_row1\" class=\"row_heading level0 row1\" >10-14</th>\n",
       "      <td id=\"T_de5db_row1_col0\" class=\"data row1 col0\" >28</td>\n",
       "      <td id=\"T_de5db_row1_col1\" class=\"data row1 col1\" >$2.96</td>\n",
       "      <td id=\"T_de5db_row1_col2\" class=\"data row1 col2\" >$82.78</td>\n",
       "      <td id=\"T_de5db_row1_col3\" class=\"data row1 col3\" >$3.76</td>\n",
       "    </tr>\n",
       "    <tr>\n",
       "      <th id=\"T_de5db_level0_row2\" class=\"row_heading level0 row2\" >15-19</th>\n",
       "      <td id=\"T_de5db_row2_col0\" class=\"data row2 col0\" >136</td>\n",
       "      <td id=\"T_de5db_row2_col1\" class=\"data row2 col1\" >$3.04</td>\n",
       "      <td id=\"T_de5db_row2_col2\" class=\"data row2 col2\" >$412.89</td>\n",
       "      <td id=\"T_de5db_row2_col3\" class=\"data row2 col3\" >$3.86</td>\n",
       "    </tr>\n",
       "    <tr>\n",
       "      <th id=\"T_de5db_level0_row3\" class=\"row_heading level0 row3\" >20-24</th>\n",
       "      <td id=\"T_de5db_row3_col0\" class=\"data row3 col0\" >365</td>\n",
       "      <td id=\"T_de5db_row3_col1\" class=\"data row3 col1\" >$3.05</td>\n",
       "      <td id=\"T_de5db_row3_col2\" class=\"data row3 col2\" >$1,114.06</td>\n",
       "      <td id=\"T_de5db_row3_col3\" class=\"data row3 col3\" >$4.32</td>\n",
       "    </tr>\n",
       "    <tr>\n",
       "      <th id=\"T_de5db_level0_row4\" class=\"row_heading level0 row4\" >25-29</th>\n",
       "      <td id=\"T_de5db_row4_col0\" class=\"data row4 col0\" >101</td>\n",
       "      <td id=\"T_de5db_row4_col1\" class=\"data row4 col1\" >$2.90</td>\n",
       "      <td id=\"T_de5db_row4_col2\" class=\"data row4 col2\" >$293.00</td>\n",
       "      <td id=\"T_de5db_row4_col3\" class=\"data row4 col3\" >$3.81</td>\n",
       "    </tr>\n",
       "    <tr>\n",
       "      <th id=\"T_de5db_level0_row5\" class=\"row_heading level0 row5\" >30-34</th>\n",
       "      <td id=\"T_de5db_row5_col0\" class=\"data row5 col0\" >73</td>\n",
       "      <td id=\"T_de5db_row5_col1\" class=\"data row5 col1\" >$2.93</td>\n",
       "      <td id=\"T_de5db_row5_col2\" class=\"data row5 col2\" >$214.00</td>\n",
       "      <td id=\"T_de5db_row5_col3\" class=\"data row5 col3\" >$4.12</td>\n",
       "    </tr>\n",
       "    <tr>\n",
       "      <th id=\"T_de5db_level0_row6\" class=\"row_heading level0 row6\" >35-39</th>\n",
       "      <td id=\"T_de5db_row6_col0\" class=\"data row6 col0\" >41</td>\n",
       "      <td id=\"T_de5db_row6_col1\" class=\"data row6 col1\" >$3.60</td>\n",
       "      <td id=\"T_de5db_row6_col2\" class=\"data row6 col2\" >$147.67</td>\n",
       "      <td id=\"T_de5db_row6_col3\" class=\"data row6 col3\" >$4.76</td>\n",
       "    </tr>\n",
       "    <tr>\n",
       "      <th id=\"T_de5db_level0_row7\" class=\"row_heading level0 row7\" >40+</th>\n",
       "      <td id=\"T_de5db_row7_col0\" class=\"data row7 col0\" >13</td>\n",
       "      <td id=\"T_de5db_row7_col1\" class=\"data row7 col1\" >$2.94</td>\n",
       "      <td id=\"T_de5db_row7_col2\" class=\"data row7 col2\" >$38.24</td>\n",
       "      <td id=\"T_de5db_row7_col3\" class=\"data row7 col3\" >$3.19</td>\n",
       "    </tr>\n",
       "  </tbody>\n",
       "</table>\n"
      ],
      "text/plain": [
       "<pandas.io.formats.style.Styler at 0x7ff5298fa370>"
      ]
     },
     "execution_count": 38,
     "metadata": {},
     "output_type": "execute_result"
    }
   ],
   "source": [
    "purchase_count_age = age_groupby[\"Purchase ID\"].count()\n",
    "average_purchase_price_age = age_groupby[\"Price\"].mean()\n",
    "total_purchases = age_groupby[\"Price\"].sum()\n",
    "average_purchase_per_person_age = total_purchases / total_count_age\n",
    "\n",
    "age_demo = pd.DataFrame({\n",
    "    \"Purchase Count\":purchase_count_age,\n",
    "    \"Average Purchase Price\":average_purchase_price_age,\n",
    "    \"Total Purchase Value\":purchase_value_age,\n",
    "    \"Avg Total Purchase per Person\":average_purchase_per_person_age\n",
    "})\n",
    "age_demo.index.name = \"Age Ranges\"\n",
    "\n",
    "age_demo.style.format({\n",
    "    \"Average Purchase Price\":\"${:,.2f}\",\n",
    "    \"Total Purchase Value\":\"${:,.2f}\",\n",
    "    \"Avg Total Purchase per Person\":\"${:,.2f}\"\n",
    "})"
   ]
  },
  {
   "cell_type": "markdown",
   "id": "6d06a8ac-e36d-4135-917a-b147690357dc",
   "metadata": {},
   "source": [
    "### Top Spenders\n",
    "- Identify the the top 5 spenders in the game by total purchase value, then list (in a table):\n",
    "- SN\n",
    "- Purchase Count\n",
    "- Average Purchase Price\n",
    "- Total Purchase Value"
   ]
  },
  {
   "cell_type": "code",
   "execution_count": 41,
   "id": "186b0d18-37a4-466a-9426-ced4414e2f87",
   "metadata": {},
   "outputs": [
    {
     "data": {
      "text/html": [
       "<style type=\"text/css\">\n",
       "</style>\n",
       "<table id=\"T_5d614_\">\n",
       "  <thead>\n",
       "    <tr>\n",
       "      <th class=\"blank level0\" >&nbsp;</th>\n",
       "      <th class=\"col_heading level0 col0\" >Purchase Count</th>\n",
       "      <th class=\"col_heading level0 col1\" >Average Purchase Price</th>\n",
       "      <th class=\"col_heading level0 col2\" >Total Purchase Value</th>\n",
       "    </tr>\n",
       "    <tr>\n",
       "      <th class=\"index_name level0\" >SN</th>\n",
       "      <th class=\"blank col0\" >&nbsp;</th>\n",
       "      <th class=\"blank col1\" >&nbsp;</th>\n",
       "      <th class=\"blank col2\" >&nbsp;</th>\n",
       "    </tr>\n",
       "  </thead>\n",
       "  <tbody>\n",
       "    <tr>\n",
       "      <th id=\"T_5d614_level0_row0\" class=\"row_heading level0 row0\" >Lisosia93</th>\n",
       "      <td id=\"T_5d614_row0_col0\" class=\"data row0 col0\" >5</td>\n",
       "      <td id=\"T_5d614_row0_col1\" class=\"data row0 col1\" >$3.79</td>\n",
       "      <td id=\"T_5d614_row0_col2\" class=\"data row0 col2\" >$18.96</td>\n",
       "    </tr>\n",
       "    <tr>\n",
       "      <th id=\"T_5d614_level0_row1\" class=\"row_heading level0 row1\" >Idastidru52</th>\n",
       "      <td id=\"T_5d614_row1_col0\" class=\"data row1 col0\" >4</td>\n",
       "      <td id=\"T_5d614_row1_col1\" class=\"data row1 col1\" >$3.86</td>\n",
       "      <td id=\"T_5d614_row1_col2\" class=\"data row1 col2\" >$15.45</td>\n",
       "    </tr>\n",
       "    <tr>\n",
       "      <th id=\"T_5d614_level0_row2\" class=\"row_heading level0 row2\" >Chamjask73</th>\n",
       "      <td id=\"T_5d614_row2_col0\" class=\"data row2 col0\" >3</td>\n",
       "      <td id=\"T_5d614_row2_col1\" class=\"data row2 col1\" >$4.61</td>\n",
       "      <td id=\"T_5d614_row2_col2\" class=\"data row2 col2\" >$13.83</td>\n",
       "    </tr>\n",
       "    <tr>\n",
       "      <th id=\"T_5d614_level0_row3\" class=\"row_heading level0 row3\" >Iral74</th>\n",
       "      <td id=\"T_5d614_row3_col0\" class=\"data row3 col0\" >4</td>\n",
       "      <td id=\"T_5d614_row3_col1\" class=\"data row3 col1\" >$3.41</td>\n",
       "      <td id=\"T_5d614_row3_col2\" class=\"data row3 col2\" >$13.62</td>\n",
       "    </tr>\n",
       "    <tr>\n",
       "      <th id=\"T_5d614_level0_row4\" class=\"row_heading level0 row4\" >Iskadarya95</th>\n",
       "      <td id=\"T_5d614_row4_col0\" class=\"data row4 col0\" >3</td>\n",
       "      <td id=\"T_5d614_row4_col1\" class=\"data row4 col1\" >$4.37</td>\n",
       "      <td id=\"T_5d614_row4_col2\" class=\"data row4 col2\" >$13.10</td>\n",
       "    </tr>\n",
       "  </tbody>\n",
       "</table>\n"
      ],
      "text/plain": [
       "<pandas.io.formats.style.Styler at 0x7ff5382be670>"
      ]
     },
     "execution_count": 41,
     "metadata": {},
     "output_type": "execute_result"
    }
   ],
   "source": [
    "spender_group = purchase_data.groupby(\"SN\")\n",
    "\n",
    "purchase_count_spender = spender_group[\"Purchase ID\"].count()\n",
    "avg_purchase_price_spender = spender_group[\"Price\"].mean()\n",
    "purchase_total_spender = spender_group[\"Price\"].sum()\n",
    "\n",
    "top_spenders = pd.DataFrame({\n",
    "    \"Purchase Count\":purchase_count_spender,\n",
    "    \"Average Purchase Price\":avg_purchase_price_spender,\n",
    "    \"Total Purchase Value\":purchase_total_spender\n",
    "})\n",
    "spender_format = top_spenders.sort_values([\"Total Purchase Value\"], ascending = False).head()\n",
    "\n",
    "spender_format.style.format({\n",
    "    \"Average Purchase Price\":\"${:,.2f}\",\n",
    "    \"Total Purchase Value\":\"${:,.2f}\"\n",
    "})"
   ]
  },
  {
   "cell_type": "markdown",
   "id": "b37bb934-b0fa-4d27-8ea7-d4b50ee6d881",
   "metadata": {},
   "source": [
    "### Most Popular Items\n",
    "- Identify the 5 most popular items by purchase count, then list (in a table):\n",
    "- Item ID\n",
    "- Item Name\n",
    "- Purchase Count\n",
    "- Item Price\n",
    "- Total Purchase Value"
   ]
  },
  {
   "cell_type": "code",
   "execution_count": 42,
   "id": "a3e11b40-9263-4f1f-9be5-90b7403125a6",
   "metadata": {},
   "outputs": [
    {
     "data": {
      "text/html": [
       "<style type=\"text/css\">\n",
       "</style>\n",
       "<table id=\"T_806d1_\">\n",
       "  <thead>\n",
       "    <tr>\n",
       "      <th class=\"blank\" >&nbsp;</th>\n",
       "      <th class=\"blank level0\" >&nbsp;</th>\n",
       "      <th class=\"col_heading level0 col0\" >Purchase Count</th>\n",
       "      <th class=\"col_heading level0 col1\" >Item Price</th>\n",
       "      <th class=\"col_heading level0 col2\" >Total Purchase Value</th>\n",
       "    </tr>\n",
       "    <tr>\n",
       "      <th class=\"index_name level0\" >Item ID</th>\n",
       "      <th class=\"index_name level1\" >Item Name</th>\n",
       "      <th class=\"blank col0\" >&nbsp;</th>\n",
       "      <th class=\"blank col1\" >&nbsp;</th>\n",
       "      <th class=\"blank col2\" >&nbsp;</th>\n",
       "    </tr>\n",
       "  </thead>\n",
       "  <tbody>\n",
       "    <tr>\n",
       "      <th id=\"T_806d1_level0_row0\" class=\"row_heading level0 row0\" >92</th>\n",
       "      <th id=\"T_806d1_level1_row0\" class=\"row_heading level1 row0\" >Final Critic</th>\n",
       "      <td id=\"T_806d1_row0_col0\" class=\"data row0 col0\" >13</td>\n",
       "      <td id=\"T_806d1_row0_col1\" class=\"data row0 col1\" >$4.61</td>\n",
       "      <td id=\"T_806d1_row0_col2\" class=\"data row0 col2\" >$59.99</td>\n",
       "    </tr>\n",
       "    <tr>\n",
       "      <th id=\"T_806d1_level0_row1\" class=\"row_heading level0 row1\" >178</th>\n",
       "      <th id=\"T_806d1_level1_row1\" class=\"row_heading level1 row1\" >Oathbreaker, Last Hope of the Breaking Storm</th>\n",
       "      <td id=\"T_806d1_row1_col0\" class=\"data row1 col0\" >12</td>\n",
       "      <td id=\"T_806d1_row1_col1\" class=\"data row1 col1\" >$4.23</td>\n",
       "      <td id=\"T_806d1_row1_col2\" class=\"data row1 col2\" >$50.76</td>\n",
       "    </tr>\n",
       "    <tr>\n",
       "      <th id=\"T_806d1_level0_row2\" class=\"row_heading level0 row2\" >145</th>\n",
       "      <th id=\"T_806d1_level1_row2\" class=\"row_heading level1 row2\" >Fiery Glass Crusader</th>\n",
       "      <td id=\"T_806d1_row2_col0\" class=\"data row2 col0\" >9</td>\n",
       "      <td id=\"T_806d1_row2_col1\" class=\"data row2 col1\" >$4.58</td>\n",
       "      <td id=\"T_806d1_row2_col2\" class=\"data row2 col2\" >$41.22</td>\n",
       "    </tr>\n",
       "    <tr>\n",
       "      <th id=\"T_806d1_level0_row3\" class=\"row_heading level0 row3\" >132</th>\n",
       "      <th id=\"T_806d1_level1_row3\" class=\"row_heading level1 row3\" >Persuasion</th>\n",
       "      <td id=\"T_806d1_row3_col0\" class=\"data row3 col0\" >9</td>\n",
       "      <td id=\"T_806d1_row3_col1\" class=\"data row3 col1\" >$3.22</td>\n",
       "      <td id=\"T_806d1_row3_col2\" class=\"data row3 col2\" >$28.99</td>\n",
       "    </tr>\n",
       "    <tr>\n",
       "      <th id=\"T_806d1_level0_row4\" class=\"row_heading level0 row4\" >108</th>\n",
       "      <th id=\"T_806d1_level1_row4\" class=\"row_heading level1 row4\" >Extraction, Quickblade Of Trembling Hands</th>\n",
       "      <td id=\"T_806d1_row4_col0\" class=\"data row4 col0\" >9</td>\n",
       "      <td id=\"T_806d1_row4_col1\" class=\"data row4 col1\" >$3.53</td>\n",
       "      <td id=\"T_806d1_row4_col2\" class=\"data row4 col2\" >$31.77</td>\n",
       "    </tr>\n",
       "  </tbody>\n",
       "</table>\n"
      ],
      "text/plain": [
       "<pandas.io.formats.style.Styler at 0x7ff5298f26d0>"
      ]
     },
     "execution_count": 42,
     "metadata": {},
     "output_type": "execute_result"
    }
   ],
   "source": [
    "items = purchase_data[[\"Item ID\", \"Item Name\", \"Price\"]]\n",
    "item_group = items.groupby([\"Item ID\", \"Item Name\"])\n",
    "\n",
    "purchase_count_item = item_group[\"Price\"].count()\n",
    "purchase_value = (item_group[\"Price\"].sum())\n",
    "item_price = purchase_value / purchase_count_item\n",
    "\n",
    "most_popular_items = pd.DataFrame({\n",
    "    \"Purchase Count\":purchase_count_item,\n",
    "    \"Item Price\":item_price,\n",
    "    \"Total Purchase Value\":purchase_value\n",
    "})\n",
    "popular_format = most_popular_items.sort_values([\"Purchase Count\"], ascending = False).head()\n",
    "\n",
    "popular_format.style.format({\n",
    "    \"Item Price\":\"${:,.2f}\",\n",
    "    \"Total Purchase Value\":\"${:,.2f}\"\n",
    "})"
   ]
  },
  {
   "cell_type": "markdown",
   "id": "d8881373-1c32-4c4b-b06e-dd9252f4aa5b",
   "metadata": {},
   "source": [
    "### Most Profitable Items\n",
    "- Identify the 5 most profitable items by total purchase value, then list (in a table):\n",
    "- Item ID\n",
    "- Item Name\n",
    "- Purchase Count\n",
    "- Item Price\n",
    "- Total Purchase Value"
   ]
  },
  {
   "cell_type": "code",
   "execution_count": 43,
   "id": "360c9a6a-f3f5-40bd-9f09-20742370ae3e",
   "metadata": {
    "tags": []
   },
   "outputs": [
    {
     "data": {
      "text/html": [
       "<style type=\"text/css\">\n",
       "</style>\n",
       "<table id=\"T_517f0_\">\n",
       "  <thead>\n",
       "    <tr>\n",
       "      <th class=\"blank\" >&nbsp;</th>\n",
       "      <th class=\"blank level0\" >&nbsp;</th>\n",
       "      <th class=\"col_heading level0 col0\" >Purchase Count</th>\n",
       "      <th class=\"col_heading level0 col1\" >Item Price</th>\n",
       "      <th class=\"col_heading level0 col2\" >Total Purchase Value</th>\n",
       "    </tr>\n",
       "    <tr>\n",
       "      <th class=\"index_name level0\" >Item ID</th>\n",
       "      <th class=\"index_name level1\" >Item Name</th>\n",
       "      <th class=\"blank col0\" >&nbsp;</th>\n",
       "      <th class=\"blank col1\" >&nbsp;</th>\n",
       "      <th class=\"blank col2\" >&nbsp;</th>\n",
       "    </tr>\n",
       "  </thead>\n",
       "  <tbody>\n",
       "    <tr>\n",
       "      <th id=\"T_517f0_level0_row0\" class=\"row_heading level0 row0\" >92</th>\n",
       "      <th id=\"T_517f0_level1_row0\" class=\"row_heading level1 row0\" >Final Critic</th>\n",
       "      <td id=\"T_517f0_row0_col0\" class=\"data row0 col0\" >13</td>\n",
       "      <td id=\"T_517f0_row0_col1\" class=\"data row0 col1\" >$4.61</td>\n",
       "      <td id=\"T_517f0_row0_col2\" class=\"data row0 col2\" >$59.99</td>\n",
       "    </tr>\n",
       "    <tr>\n",
       "      <th id=\"T_517f0_level0_row1\" class=\"row_heading level0 row1\" >178</th>\n",
       "      <th id=\"T_517f0_level1_row1\" class=\"row_heading level1 row1\" >Oathbreaker, Last Hope of the Breaking Storm</th>\n",
       "      <td id=\"T_517f0_row1_col0\" class=\"data row1 col0\" >12</td>\n",
       "      <td id=\"T_517f0_row1_col1\" class=\"data row1 col1\" >$4.23</td>\n",
       "      <td id=\"T_517f0_row1_col2\" class=\"data row1 col2\" >$50.76</td>\n",
       "    </tr>\n",
       "    <tr>\n",
       "      <th id=\"T_517f0_level0_row2\" class=\"row_heading level0 row2\" >82</th>\n",
       "      <th id=\"T_517f0_level1_row2\" class=\"row_heading level1 row2\" >Nirvana</th>\n",
       "      <td id=\"T_517f0_row2_col0\" class=\"data row2 col0\" >9</td>\n",
       "      <td id=\"T_517f0_row2_col1\" class=\"data row2 col1\" >$4.90</td>\n",
       "      <td id=\"T_517f0_row2_col2\" class=\"data row2 col2\" >$44.10</td>\n",
       "    </tr>\n",
       "    <tr>\n",
       "      <th id=\"T_517f0_level0_row3\" class=\"row_heading level0 row3\" >145</th>\n",
       "      <th id=\"T_517f0_level1_row3\" class=\"row_heading level1 row3\" >Fiery Glass Crusader</th>\n",
       "      <td id=\"T_517f0_row3_col0\" class=\"data row3 col0\" >9</td>\n",
       "      <td id=\"T_517f0_row3_col1\" class=\"data row3 col1\" >$4.58</td>\n",
       "      <td id=\"T_517f0_row3_col2\" class=\"data row3 col2\" >$41.22</td>\n",
       "    </tr>\n",
       "    <tr>\n",
       "      <th id=\"T_517f0_level0_row4\" class=\"row_heading level0 row4\" >103</th>\n",
       "      <th id=\"T_517f0_level1_row4\" class=\"row_heading level1 row4\" >Singed Scalpel</th>\n",
       "      <td id=\"T_517f0_row4_col0\" class=\"data row4 col0\" >8</td>\n",
       "      <td id=\"T_517f0_row4_col1\" class=\"data row4 col1\" >$4.35</td>\n",
       "      <td id=\"T_517f0_row4_col2\" class=\"data row4 col2\" >$34.80</td>\n",
       "    </tr>\n",
       "  </tbody>\n",
       "</table>\n"
      ],
      "text/plain": [
       "<pandas.io.formats.style.Styler at 0x7ff54823fca0>"
      ]
     },
     "execution_count": 43,
     "metadata": {},
     "output_type": "execute_result"
    }
   ],
   "source": [
    "popular_format = most_popular_items.sort_values([\"Total Purchase Value\"], ascending = False).head()\n",
    "\n",
    "popular_format.style.format({\n",
    "    \"Item Price\":\"${:,.2f}\",\n",
    "    \"Total Purchase Value\":\"${:,.2f}\"\n",
    "})"
   ]
  }
 ],
 "metadata": {
  "kernelspec": {
   "display_name": "Python 3 (ipykernel)",
   "language": "python",
   "name": "python3"
  },
  "language_info": {
   "codemirror_mode": {
    "name": "ipython",
    "version": 3
   },
   "file_extension": ".py",
   "mimetype": "text/x-python",
   "name": "python",
   "nbconvert_exporter": "python",
   "pygments_lexer": "ipython3",
   "version": "3.8.12"
  }
 },
 "nbformat": 4,
 "nbformat_minor": 5
}
